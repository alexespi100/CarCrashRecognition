{
 "cells": [
  {
   "cell_type": "code",
   "execution_count": 7,
   "metadata": {},
   "outputs": [],
   "source": [
    "import os, shutil"
   ]
  },
  {
   "cell_type": "code",
   "execution_count": 8,
   "metadata": {},
   "outputs": [],
   "source": [
    "# The directory where we will\n",
    "# store our smaller dataset\n",
    "base_dir = '/Users/e-aespinosa/Downloads/ProyectoAutosChocados/data-YN'\n",
    "\n",
    "# Directories for our training,\n",
    "# validation and test splits\n",
    "train_dir = os.path.join(base_dir, 'train')\n",
    "validation_dir = os.path.join(base_dir, 'validate')\n",
    "test_dir = os.path.join(base_dir, 'test')\n",
    "\n",
    "# Directory with our training normal car pictures\n",
    "train_normal_dir = os.path.join(train_dir, 'normal')\n",
    "\n",
    "# Directory with our training crashed car pictures\n",
    "train_crashed_dir = os.path.join(train_dir, 'crashed')\n",
    "\n",
    "# Directory with our validation normal car pictures\n",
    "validation_normal_dir = os.path.join(validation_dir, 'normal')\n",
    "\n",
    "# Directory with our validation crashed car pictures\n",
    "validation_crashed_dir = os.path.join(validation_dir, 'crashed')\n",
    "\n",
    "# Directory with our validation normal car pictures\n",
    "test_normal_dir = os.path.join(test_dir, 'normal')\n",
    "\n",
    "# Directory with our validation crashed car pictures\n",
    "test_crashed_dir = os.path.join(test_dir, 'crashed')"
   ]
  },
  {
   "cell_type": "code",
   "execution_count": 9,
   "metadata": {},
   "outputs": [],
   "source": [
    "#Create model of the neural network to use using the keras high level API\n",
    "\n",
    "from keras import layers\n",
    "from keras import models\n",
    "\n",
    "model = models.Sequential()\n",
    "model.add(layers.Conv2D(32, (3, 3), activation='relu',\n",
    "                        input_shape=(312, 312, 3)))\n",
    "model.add(layers.MaxPooling2D((2, 2)))\n",
    "model.add(layers.Conv2D(64, (3, 3), activation='relu'))\n",
    "model.add(layers.MaxPooling2D((2, 2)))\n",
    "model.add(layers.Conv2D(128, (3, 3), activation='relu'))\n",
    "model.add(layers.MaxPooling2D((2, 2)))\n",
    "model.add(layers.Conv2D(128, (3, 3), activation='relu'))\n",
    "model.add(layers.MaxPooling2D((2, 2)))\n",
    "model.add(layers.Flatten())\n",
    "model.add(layers.Dense(512, activation='relu'))\n",
    "model.add(layers.Dense(1, activation='sigmoid'))\n"
   ]
  },
  {
   "cell_type": "code",
   "execution_count": 10,
   "metadata": {},
   "outputs": [],
   "source": [
    "#Choosing the optimizers to use in the neuran network. The loss function is going to be the mean squared error,\n",
    "#The optimizer is the RMS method, and the metric used, the accuracy.\n",
    "\n",
    "from keras import optimizers\n",
    "\n",
    "model.compile(loss='mean_squared_error',\n",
    "              optimizer=optimizers.RMSprop(lr=1e-4),\n",
    "              metrics=['acc'])"
   ]
  },
  {
   "cell_type": "code",
   "execution_count": 11,
   "metadata": {},
   "outputs": [
    {
     "name": "stdout",
     "output_type": "stream",
     "text": [
      "Found 3749 images belonging to 2 classes.\n",
      "Found 470 images belonging to 2 classes.\n"
     ]
    }
   ],
   "source": [
    "from keras.preprocessing.image import ImageDataGenerator\n",
    "\n",
    "# All images will be rescaled by 1./255\n",
    "train_datagen = ImageDataGenerator(rescale=1./255)\n",
    "test_datagen = ImageDataGenerator(rescale=1./255)\n",
    "\n",
    "train_generator = train_datagen.flow_from_directory(\n",
    "        # This is the target directory\n",
    "        train_dir,\n",
    "        # All images will be resized to 312x312 to have higher resolution patterns\n",
    "        target_size=(312, 312),\n",
    "        batch_size=20,\n",
    "        class_mode='binary')\n",
    "\n",
    "validation_generator = test_datagen.flow_from_directory(\n",
    "        validation_dir,\n",
    "        target_size=(312, 312),\n",
    "        batch_size=20,\n",
    "        class_mode='binary')"
   ]
  },
  {
   "cell_type": "code",
   "execution_count": 13,
   "metadata": {
    "scrolled": false
   },
   "outputs": [
    {
     "name": "stdout",
     "output_type": "stream",
     "text": [
      "Epoch 1/30\n",
      "100/100 [==============================] - 412s 4s/step - loss: 0.6727 - acc: 0.5945 - val_loss: 0.6228 - val_acc: 0.6990\n",
      "Epoch 2/30\n",
      "100/100 [==============================] - 409s 4s/step - loss: 0.6174 - acc: 0.6967 - val_loss: 0.8223 - val_acc: 0.5429\n",
      "Epoch 3/30\n",
      "100/100 [==============================] - 392s 4s/step - loss: 0.5351 - acc: 0.7620 - val_loss: 0.6656 - val_acc: 0.7286\n",
      "Epoch 4/30\n",
      "100/100 [==============================] - 390s 4s/step - loss: 0.4718 - acc: 0.7895 - val_loss: 0.5824 - val_acc: 0.7602\n",
      "Epoch 5/30\n",
      "100/100 [==============================] - 398s 4s/step - loss: 0.4194 - acc: 0.8220 - val_loss: 0.6097 - val_acc: 0.7480\n",
      "Epoch 6/30\n",
      "100/100 [==============================] - 414s 4s/step - loss: 0.3940 - acc: 0.8303 - val_loss: 0.6230 - val_acc: 0.7602\n",
      "Epoch 7/30\n",
      "100/100 [==============================] - 424s 4s/step - loss: 0.3569 - acc: 0.8485 - val_loss: 0.5834 - val_acc: 0.7673\n",
      "Epoch 8/30\n",
      "100/100 [==============================] - 392s 4s/step - loss: 0.3274 - acc: 0.8614 - val_loss: 0.6411 - val_acc: 0.7653\n",
      "Epoch 9/30\n",
      "100/100 [==============================] - 393s 4s/step - loss: 0.2996 - acc: 0.8760 - val_loss: 0.7576 - val_acc: 0.7531\n",
      "Epoch 10/30\n",
      "100/100 [==============================] - 392s 4s/step - loss: 0.2626 - acc: 0.9019 - val_loss: 0.6300 - val_acc: 0.7837\n",
      "Epoch 11/30\n",
      "100/100 [==============================] - 414s 4s/step - loss: 0.2459 - acc: 0.8980 - val_loss: 0.5302 - val_acc: 0.8061\n",
      "Epoch 12/30\n",
      "100/100 [==============================] - 399s 4s/step - loss: 0.2302 - acc: 0.9190 - val_loss: 0.6705 - val_acc: 0.8000\n",
      "Epoch 13/30\n",
      "100/100 [==============================] - 406s 4s/step - loss: 0.1868 - acc: 0.9275 - val_loss: 0.6222 - val_acc: 0.7980\n",
      "Epoch 14/30\n",
      "100/100 [==============================] - 412s 4s/step - loss: 0.1616 - acc: 0.9395 - val_loss: 0.5630 - val_acc: 0.7939\n",
      "Epoch 15/30\n",
      "100/100 [==============================] - 401s 4s/step - loss: 0.1586 - acc: 0.9420 - val_loss: 0.8862 - val_acc: 0.7888\n",
      "Epoch 16/30\n",
      "100/100 [==============================] - 417s 4s/step - loss: 0.1275 - acc: 0.9570 - val_loss: 0.6821 - val_acc: 0.7929\n",
      "Epoch 17/30\n",
      "100/100 [==============================] - 403s 4s/step - loss: 0.1033 - acc: 0.9645 - val_loss: 0.8086 - val_acc: 0.7949\n",
      "Epoch 18/30\n",
      "100/100 [==============================] - 394s 4s/step - loss: 0.0991 - acc: 0.9685 - val_loss: 0.5315 - val_acc: 0.8327\n",
      "Epoch 19/30\n",
      "100/100 [==============================] - 395s 4s/step - loss: 0.0790 - acc: 0.9729 - val_loss: 0.7518 - val_acc: 0.8184\n",
      "Epoch 20/30\n",
      "100/100 [==============================] - 396s 4s/step - loss: 0.0610 - acc: 0.9780 - val_loss: 0.7111 - val_acc: 0.7969\n",
      "Epoch 21/30\n",
      "100/100 [==============================] - 396s 4s/step - loss: 0.0638 - acc: 0.9820 - val_loss: 0.7253 - val_acc: 0.7806\n",
      "Epoch 22/30\n",
      "100/100 [==============================] - 399s 4s/step - loss: 0.0345 - acc: 0.9890 - val_loss: 0.9376 - val_acc: 0.8133\n",
      "Epoch 23/30\n",
      "100/100 [==============================] - 392s 4s/step - loss: 0.0363 - acc: 0.9895 - val_loss: 0.8659 - val_acc: 0.8204\n",
      "Epoch 24/30\n",
      "100/100 [==============================] - 408s 4s/step - loss: 0.0279 - acc: 0.9905 - val_loss: 1.2870 - val_acc: 0.7979\n",
      "Epoch 25/30\n",
      "100/100 [==============================] - 411s 4s/step - loss: 0.0207 - acc: 0.9955 - val_loss: 0.9193 - val_acc: 0.8031\n",
      "Epoch 26/30\n",
      "100/100 [==============================] - 398s 4s/step - loss: 0.0228 - acc: 0.9935 - val_loss: 0.9521 - val_acc: 0.8020\n",
      "Epoch 27/30\n",
      "100/100 [==============================] - 411s 4s/step - loss: 0.0229 - acc: 0.9935 - val_loss: 1.1708 - val_acc: 0.8010\n",
      "Epoch 28/30\n",
      "100/100 [==============================] - 402s 4s/step - loss: 0.0130 - acc: 0.9970 - val_loss: 1.2677 - val_acc: 0.8020\n",
      "Epoch 29/30\n",
      "100/100 [==============================] - 408s 4s/step - loss: 0.0136 - acc: 0.9955 - val_loss: 1.1893 - val_acc: 0.8071\n",
      "Epoch 30/30\n",
      "100/100 [==============================] - 400s 4s/step - loss: 0.0090 - acc: 0.9980 - val_loss: 1.3447 - val_acc: 0.8041\n"
     ]
    }
   ],
   "source": [
    "#Execution and training of the network using 100 steps per epoch, 30 epochs and 50 validation steps.\n",
    "\n",
    "history = model.fit_generator(\n",
    "      train_generator,\n",
    "      steps_per_epoch=100,\n",
    "      epochs=30,\n",
    "      validation_data=validation_generator,\n",
    "      validation_steps=50)"
   ]
  },
  {
   "cell_type": "code",
   "execution_count": 1,
   "metadata": {},
   "outputs": [
    {
     "ename": "NameError",
     "evalue": "name 'history' is not defined",
     "output_type": "error",
     "traceback": [
      "\u001b[1;31m---------------------------------------------------------------------------\u001b[0m",
      "\u001b[1;31mNameError\u001b[0m                                 Traceback (most recent call last)",
      "\u001b[1;32m<ipython-input-1-69faefec7614>\u001b[0m in \u001b[0;36m<module>\u001b[1;34m\u001b[0m\n\u001b[0;32m      1\u001b[0m \u001b[1;32mimport\u001b[0m \u001b[0mmatplotlib\u001b[0m\u001b[1;33m.\u001b[0m\u001b[0mpyplot\u001b[0m \u001b[1;32mas\u001b[0m \u001b[0mplt\u001b[0m\u001b[1;33m\u001b[0m\u001b[1;33m\u001b[0m\u001b[0m\n\u001b[0;32m      2\u001b[0m \u001b[1;33m\u001b[0m\u001b[0m\n\u001b[1;32m----> 3\u001b[1;33m \u001b[0macc\u001b[0m \u001b[1;33m=\u001b[0m \u001b[0mhistory\u001b[0m\u001b[1;33m.\u001b[0m\u001b[0mhistory\u001b[0m\u001b[1;33m[\u001b[0m\u001b[1;34m'acc'\u001b[0m\u001b[1;33m]\u001b[0m\u001b[1;33m\u001b[0m\u001b[1;33m\u001b[0m\u001b[0m\n\u001b[0m\u001b[0;32m      4\u001b[0m \u001b[0mval_acc\u001b[0m \u001b[1;33m=\u001b[0m \u001b[0mhistory\u001b[0m\u001b[1;33m.\u001b[0m\u001b[0mhistory\u001b[0m\u001b[1;33m[\u001b[0m\u001b[1;34m'val_acc'\u001b[0m\u001b[1;33m]\u001b[0m\u001b[1;33m\u001b[0m\u001b[1;33m\u001b[0m\u001b[0m\n\u001b[0;32m      5\u001b[0m \u001b[0mloss\u001b[0m \u001b[1;33m=\u001b[0m \u001b[0mhistory\u001b[0m\u001b[1;33m.\u001b[0m\u001b[0mhistory\u001b[0m\u001b[1;33m[\u001b[0m\u001b[1;34m'loss'\u001b[0m\u001b[1;33m]\u001b[0m\u001b[1;33m\u001b[0m\u001b[1;33m\u001b[0m\u001b[0m\n",
      "\u001b[1;31mNameError\u001b[0m: name 'history' is not defined"
     ]
    }
   ],
   "source": [
    "#Graph the overall accuracy across time and the loss function from training and validation iterations.\n",
    "\n",
    "import matplotlib.pyplot as plt\n",
    "\n",
    "acc = history.history['acc']\n",
    "val_acc = history.history['val_acc']\n",
    "loss = history.history['loss']\n",
    "val_loss = history.history['val_loss']\n",
    "\n",
    "epochs = range(len(acc))\n",
    "\n",
    "plt.plot(epochs, acc, 'bo', label='Training acc')\n",
    "plt.plot(epochs, val_acc, 'b', label='Validation acc')\n",
    "plt.title('Training and validation accuracy')\n",
    "plt.legend()\n",
    "\n",
    "plt.figure()\n",
    "\n",
    "plt.plot(epochs, loss, 'bo', label='Training loss')\n",
    "plt.plot(epochs, val_loss, 'b', label='Validation loss')\n",
    "plt.title('Training and validation loss')\n",
    "plt.legend()"
   ]
  },
  {
   "cell_type": "code",
   "execution_count": 2,
   "metadata": {},
   "outputs": [
    {
     "ename": "NameError",
     "evalue": "name 'model' is not defined",
     "output_type": "error",
     "traceback": [
      "\u001b[1;31m---------------------------------------------------------------------------\u001b[0m",
      "\u001b[1;31mNameError\u001b[0m                                 Traceback (most recent call last)",
      "\u001b[1;32m<ipython-input-2-5731dabe50ae>\u001b[0m in \u001b[0;36m<module>\u001b[1;34m\u001b[0m\n\u001b[1;32m----> 1\u001b[1;33m \u001b[0mmodel\u001b[0m\u001b[1;33m.\u001b[0m\u001b[0msave\u001b[0m\u001b[1;33m(\u001b[0m\u001b[1;34m'CarCrashModelMk1.h5'\u001b[0m\u001b[1;33m)\u001b[0m\u001b[1;33m\u001b[0m\u001b[1;33m\u001b[0m\u001b[0m\n\u001b[0m",
      "\u001b[1;31mNameError\u001b[0m: name 'model' is not defined"
     ]
    }
   ],
   "source": [
    "#Saving the model\n",
    "\n",
    "model.save('CarCrashModelMk1.h5')"
   ]
  }
 ],
 "metadata": {
  "kernelspec": {
   "display_name": "Python 3",
   "language": "python",
   "name": "python3"
  },
  "language_info": {
   "codemirror_mode": {
    "name": "ipython",
    "version": 3
   },
   "file_extension": ".py",
   "mimetype": "text/x-python",
   "name": "python",
   "nbconvert_exporter": "python",
   "pygments_lexer": "ipython3",
   "version": "3.6.8"
  }
 },
 "nbformat": 4,
 "nbformat_minor": 2
}
