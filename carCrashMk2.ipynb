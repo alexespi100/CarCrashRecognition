{
 "cells": [
  {
   "cell_type": "code",
   "execution_count": 3,
   "metadata": {},
   "outputs": [],
   "source": [
    "import os, shutil"
   ]
  },
  {
   "cell_type": "code",
   "execution_count": 4,
   "metadata": {},
   "outputs": [],
   "source": [
    "# The directory where we will\n",
    "# store our smaller dataset\n",
    "base_dir = '/Users/Neoris/Desktop/ProyectoAutosChocados/data-YN'\n",
    "\n",
    "# Directories for our training,\n",
    "# validation and test splits\n",
    "train_dir = os.path.join(base_dir, 'train')\n",
    "validation_dir = os.path.join(base_dir, 'validate')\n",
    "test_dir = os.path.join(base_dir, 'test')\n",
    "\n",
    "# Directory with our training cat pictures\n",
    "train_normal_dir = os.path.join(train_dir, 'normal')\n",
    "\n",
    "# Directory with our training dog pictures\n",
    "train_crashed_dir = os.path.join(train_dir, 'crashed')\n",
    "\n",
    "# Directory with our validation cat pictures\n",
    "validation_normal_dir = os.path.join(validation_dir, 'normal')\n",
    "\n",
    "# Directory with our validation dog pictures\n",
    "validation_crashed_dir = os.path.join(validation_dir, 'crashed')\n",
    "\n",
    "# Directory with our validation cat pictures\n",
    "test_normal_dir = os.path.join(test_dir, 'normal')\n",
    "\n",
    "# Directory with our validation dog pictures\n",
    "test_crashed_dir = os.path.join(test_dir, 'crashed')"
   ]
  },
  {
   "cell_type": "code",
   "execution_count": 5,
   "metadata": {},
   "outputs": [],
   "source": [
    "from keras import layers\n",
    "from keras import models\n",
    "\n",
    "model = models.Sequential()\n",
    "model.add(layers.Conv2D(32, (3, 3), activation='relu',\n",
    "                        input_shape=(460, 460, 3)))\n",
    "model.add(layers.MaxPooling2D((2, 2)))\n",
    "model.add(layers.Conv2D(64, (3, 3), activation='relu'))\n",
    "model.add(layers.MaxPooling2D((2, 2)))\n",
    "model.add(layers.Conv2D(128, (3, 3), activation='relu'))\n",
    "model.add(layers.MaxPooling2D((2, 2)))\n",
    "model.add(layers.Conv2D(128, (3, 3), activation='relu'))\n",
    "model.add(layers.MaxPooling2D((2, 2)))\n",
    "model.add(layers.Flatten())\n",
    "model.add(layers.Dense(512, activation='relu'))\n",
    "model.add(layers.Dense(1, activation='sigmoid'))\n"
   ]
  },
  {
   "cell_type": "code",
   "execution_count": 6,
   "metadata": {},
   "outputs": [],
   "source": [
    "from keras import optimizers\n",
    "\n",
    "model.compile(loss='binary_crossentropy',\n",
    "              optimizer=optimizers.Adam(lr=0.001, beta_1=0.9, beta_2=0.999, epsilon=None, decay=0.0, amsgrad=False),\n",
    "              metrics=['acc'])"
   ]
  },
  {
   "cell_type": "code",
   "execution_count": 7,
   "metadata": {},
   "outputs": [
    {
     "name": "stdout",
     "output_type": "stream",
     "text": [
      "Found 3749 images belonging to 2 classes.\n",
      "Found 470 images belonging to 2 classes.\n"
     ]
    }
   ],
   "source": [
    "from keras.preprocessing.image import ImageDataGenerator\n",
    "\n",
    "# All images will be rescaled by 1./255\n",
    "train_datagen = ImageDataGenerator(rescale=1./255)\n",
    "test_datagen = ImageDataGenerator(rescale=1./255)\n",
    "\n",
    "train_generator = train_datagen.flow_from_directory(\n",
    "        # This is the target directory\n",
    "        train_dir,\n",
    "        # All images will be resized to 150x150\n",
    "        target_size=(460, 460),\n",
    "        batch_size=20,\n",
    "        # Since we use binary_crossentropy loss, we need binary labels\n",
    "        class_mode='binary')\n",
    "\n",
    "validation_generator = test_datagen.flow_from_directory(\n",
    "        validation_dir,\n",
    "        target_size=(460, 460),\n",
    "        batch_size=50,\n",
    "        class_mode='binary')"
   ]
  },
  {
   "cell_type": "code",
   "execution_count": 8,
   "metadata": {},
   "outputs": [
    {
     "name": "stdout",
     "output_type": "stream",
     "text": [
      "data batch shape: (20, 460, 460, 3)\n",
      "labels batch shape: (20,)\n"
     ]
    }
   ],
   "source": [
    "for data_batch, labels_batch in train_generator:\n",
    "    print('data batch shape:', data_batch.shape)\n",
    "    print('labels batch shape:', labels_batch.shape)\n",
    "    break"
   ]
  },
  {
   "cell_type": "code",
   "execution_count": 9,
   "metadata": {
    "scrolled": false
   },
   "outputs": [
    {
     "name": "stdout",
     "output_type": "stream",
     "text": [
      "Epoch 1/30\n",
      "100/100 [==============================] - 57s 566ms/step - loss: 0.7956 - acc: 0.5755 - val_loss: 0.6611 - val_acc: 0.6194\n",
      "Epoch 2/30\n",
      "100/100 [==============================] - 56s 558ms/step - loss: 0.6647 - acc: 0.6114 - val_loss: 0.6415 - val_acc: 0.6153\n",
      "Epoch 3/30\n",
      "100/100 [==============================] - 56s 556ms/step - loss: 0.5903 - acc: 0.6965 - val_loss: 0.5662 - val_acc: 0.6990\n",
      "Epoch 4/30\n",
      "100/100 [==============================] - 58s 576ms/step - loss: 0.4677 - acc: 0.7748 - val_loss: 0.7106 - val_acc: 0.6918\n",
      "Epoch 5/30\n",
      "100/100 [==============================] - 61s 609ms/step - loss: 0.3371 - acc: 0.8555 - val_loss: 0.7281 - val_acc: 0.7378\n",
      "Epoch 6/30\n",
      "100/100 [==============================] - 57s 571ms/step - loss: 0.3025 - acc: 0.8704 - val_loss: 0.6326 - val_acc: 0.7633\n",
      "Epoch 7/30\n",
      "100/100 [==============================] - 60s 596ms/step - loss: 0.1809 - acc: 0.9375 - val_loss: 0.7759 - val_acc: 0.7857\n",
      "Epoch 8/30\n",
      "100/100 [==============================] - 59s 591ms/step - loss: 0.1424 - acc: 0.9465 - val_loss: 0.9782 - val_acc: 0.7786\n",
      "Epoch 9/30\n",
      "100/100 [==============================] - 56s 561ms/step - loss: 0.0758 - acc: 0.9735 - val_loss: 0.9624 - val_acc: 0.7939\n",
      "Epoch 10/30\n",
      "100/100 [==============================] - 55s 547ms/step - loss: 0.0368 - acc: 0.9900 - val_loss: 1.0149 - val_acc: 0.8429\n",
      "Epoch 11/30\n",
      "100/100 [==============================] - 59s 587ms/step - loss: 0.0342 - acc: 0.9905 - val_loss: 1.0142 - val_acc: 0.8173\n",
      "Epoch 12/30\n",
      "100/100 [==============================] - 55s 546ms/step - loss: 0.0120 - acc: 0.9980 - val_loss: 1.0282 - val_acc: 0.8320\n",
      "Epoch 13/30\n",
      "100/100 [==============================] - 55s 551ms/step - loss: 0.0064 - acc: 0.9985 - val_loss: 1.1366 - val_acc: 0.8153\n",
      "Epoch 14/30\n",
      "100/100 [==============================] - 55s 550ms/step - loss: 0.0018 - acc: 1.0000 - val_loss: 1.3274 - val_acc: 0.8122\n",
      "Epoch 15/30\n",
      "100/100 [==============================] - 55s 550ms/step - loss: 0.0041 - acc: 0.9990 - val_loss: 1.4741 - val_acc: 0.8051\n",
      "Epoch 16/30\n",
      "100/100 [==============================] - 55s 552ms/step - loss: 0.0506 - acc: 0.9845 - val_loss: 1.2881 - val_acc: 0.7735\n",
      "Epoch 17/30\n",
      "100/100 [==============================] - 58s 580ms/step - loss: 0.0399 - acc: 0.9840 - val_loss: 1.1345 - val_acc: 0.8173\n",
      "Epoch 18/30\n",
      "100/100 [==============================] - 56s 564ms/step - loss: 0.0233 - acc: 0.9930 - val_loss: 1.4402 - val_acc: 0.7939\n",
      "Epoch 19/30\n",
      "100/100 [==============================] - 54s 537ms/step - loss: 0.0376 - acc: 0.9885 - val_loss: 1.2306 - val_acc: 0.7949\n",
      "Epoch 20/30\n",
      "100/100 [==============================] - 54s 541ms/step - loss: 0.0117 - acc: 0.9960 - val_loss: 1.8085 - val_acc: 0.7969\n",
      "Epoch 21/30\n",
      "100/100 [==============================] - 56s 562ms/step - loss: 0.0304 - acc: 0.9915 - val_loss: 1.3086 - val_acc: 0.7847\n",
      "Epoch 22/30\n",
      "100/100 [==============================] - 58s 581ms/step - loss: 0.0175 - acc: 0.9940 - val_loss: 1.2948 - val_acc: 0.7878\n",
      "Epoch 23/30\n",
      "100/100 [==============================] - 55s 555ms/step - loss: 0.0050 - acc: 0.9980 - val_loss: 1.4822 - val_acc: 0.8071\n",
      "Epoch 24/30\n",
      "100/100 [==============================] - 56s 556ms/step - loss: 0.0016 - acc: 0.9995 - val_loss: 1.4483 - val_acc: 0.8103\n",
      "Epoch 25/30\n",
      "100/100 [==============================] - 55s 549ms/step - loss: 3.3258e-04 - acc: 1.0000 - val_loss: 1.4810 - val_acc: 0.8122\n",
      "Epoch 26/30\n",
      "100/100 [==============================] - 57s 569ms/step - loss: 1.1054e-04 - acc: 1.0000 - val_loss: 1.5844 - val_acc: 0.7980\n",
      "Epoch 27/30\n",
      "100/100 [==============================] - 60s 600ms/step - loss: 7.6731e-05 - acc: 1.0000 - val_loss: 1.5021 - val_acc: 0.8112\n",
      "Epoch 28/30\n",
      "100/100 [==============================] - 53s 534ms/step - loss: 4.8707e-05 - acc: 1.0000 - val_loss: 1.5265 - val_acc: 0.8122\n",
      "Epoch 29/30\n",
      "100/100 [==============================] - 54s 542ms/step - loss: 4.5071e-05 - acc: 1.0000 - val_loss: 1.5472 - val_acc: 0.8051\n",
      "Epoch 30/30\n",
      "100/100 [==============================] - 58s 580ms/step - loss: 3.4788e-05 - acc: 1.0000 - val_loss: 1.6162 - val_acc: 0.8000\n"
     ]
    }
   ],
   "source": [
    "history = model.fit_generator(\n",
    "      train_generator,\n",
    "      steps_per_epoch=100,\n",
    "      epochs=30,\n",
    "      validation_data=validation_generator,\n",
    "      validation_steps=50)"
   ]
  },
  {
   "cell_type": "code",
   "execution_count": 11,
   "metadata": {},
   "outputs": [
    {
     "data": {
      "text/plain": [
       "<matplotlib.legend.Legend at 0x247b86f0908>"
      ]
     },
     "execution_count": 11,
     "metadata": {},
     "output_type": "execute_result"
    },
    {
     "data": {
      "image/png": "[encoded data removed]",
      "text/plain": [
       "<Figure size 432x288 with 1 Axes>"
      ]
     },
     "metadata": {
      "needs_background": "light"
     },
     "output_type": "display_data"
    },
    {
     "data": {
      "image/png": "[encoded data removed]",
      "text/plain": [
       "<Figure size 432x288 with 1 Axes>"
      ]
     },
     "metadata": {
      "needs_background": "light"
     },
     "output_type": "display_data"
    }
   ],
   "source": [
    "import matplotlib.pyplot as plt\n",
    "\n",
    "acc = history.history['acc']\n",
    "val_acc = history.history['val_acc']\n",
    "loss = history.history['loss']\n",
    "val_loss = history.history['val_loss']\n",
    "\n",
    "epochs = range(len(acc))\n",
    "\n",
    "plt.plot(epochs, acc, 'bo', label='Training acc')\n",
    "plt.plot(epochs, val_acc, 'b', label='Validation acc')\n",
    "plt.title('Training and validation accuracy')\n",
    "plt.legend()\n",
    "\n",
    "plt.figure()\n",
    "\n",
    "plt.plot(epochs, loss, 'bo', label='Training loss')\n",
    "plt.plot(epochs, val_loss, 'b', label='Validation loss')\n",
    "plt.title('Training and validation loss')\n",
    "plt.legend()"
   ]
  },
  {
   "cell_type": "code",
   "execution_count": 12,
   "metadata": {},
   "outputs": [],
   "source": [
    "model.save('CarCrashModelMk6.h5')"
   ]
  }
 ],
 "metadata": {
  "kernelspec": {
   "display_name": "Python 3",
   "language": "python",
   "name": "python3"
  },
  "language_info": {
   "codemirror_mode": {
    "name": "ipython",
    "version": 3
   },
   "file_extension": ".py",
   "mimetype": "text/x-python",
   "name": "python",
   "nbconvert_exporter": "python",
   "pygments_lexer": "ipython3",
   "version": "3.6.8"
  }
 },
 "nbformat": 4,
 "nbformat_minor": 2
}
